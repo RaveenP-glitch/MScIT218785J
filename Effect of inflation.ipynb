{
 "cells": [
  {
   "cell_type": "code",
   "execution_count": 1,
   "id": "686d8589",
   "metadata": {},
   "outputs": [],
   "source": [
    "#Importing the required libraries\n",
    "import pandas as pd\n",
    "import numpy as np\n",
    "import matplotlib.pyplot as plt\n",
    "import seaborn as sns\n",
    "import warnings\n",
    "warnings.filterwarnings(\"ignore\")\n"
   ]
  },
  {
   "cell_type": "code",
   "execution_count": 2,
   "id": "92dbc160",
   "metadata": {},
   "outputs": [
    {
     "data": {
      "text/html": [
       "<div>\n",
       "<style scoped>\n",
       "    .dataframe tbody tr th:only-of-type {\n",
       "        vertical-align: middle;\n",
       "    }\n",
       "\n",
       "    .dataframe tbody tr th {\n",
       "        vertical-align: top;\n",
       "    }\n",
       "\n",
       "    .dataframe thead th {\n",
       "        text-align: right;\n",
       "    }\n",
       "</style>\n",
       "<table border=\"1\" class=\"dataframe\">\n",
       "  <thead>\n",
       "    <tr style=\"text-align: right;\">\n",
       "      <th></th>\n",
       "      <th>Title</th>\n",
       "      <th>Sub_title</th>\n",
       "      <th>Price</th>\n",
       "      <th>Brand</th>\n",
       "      <th>Condition</th>\n",
       "      <th>Edition</th>\n",
       "      <th>Model</th>\n",
       "      <th>Features</th>\n",
       "      <th>Location</th>\n",
       "      <th>Description</th>\n",
       "      <th>Post_URL</th>\n",
       "      <th>Seller_name</th>\n",
       "      <th>Seller_type</th>\n",
       "      <th>published_date</th>\n",
       "    </tr>\n",
       "  </thead>\n",
       "  <tbody>\n",
       "    <tr>\n",
       "      <th>0</th>\n",
       "      <td>Apple iPhone 11 128GB (Used) for sale</td>\n",
       "      <td>Posted on 09 Oct 1:05 pm, Moratuwa, Colombo</td>\n",
       "      <td>Rs 137,990</td>\n",
       "      <td>Apple</td>\n",
       "      <td>Used</td>\n",
       "      <td>128GB</td>\n",
       "      <td>iPhone 11</td>\n",
       "      <td>NaN</td>\n",
       "      <td>Moratuwa,  Colombo</td>\n",
       "      <td>à¶à¶¶à¶§ à·à·à¶¯ à¶­à¶­à·à·à¶ºà· à¶",
       "à¶½à...</td>\n",
       "      <td>https://ikman.lk/en/ad/apple-iphone-11-128gb-u...</td>\n",
       "      <td>T.Phone Zone</td>\n",
       "      <td>Premium-Member</td>\n",
       "      <td>09/10/2021 13:05</td>\n",
       "    </tr>\n",
       "    <tr>\n",
       "      <th>1</th>\n",
       "      <td>Infinix Hot 10 Play (New) for sale</td>\n",
       "      <td>Posted on 23 Oct 8:34 pm, Alutgama, Kalutara</td>\n",
       "      <td>Rs 28,500</td>\n",
       "      <td>Infinix</td>\n",
       "      <td>New</td>\n",
       "      <td>Hot 10 Play</td>\n",
       "      <td>Other model</td>\n",
       "      <td>Bluetooth, Camera, Dual-Lens Camera, Dual SIM,...</td>\n",
       "      <td>Alutgama,  Kalutara</td>\n",
       "      <td>INFINIX HOT 10 PLAY4 GB RAM / 64GB  ROM   ââ...</td>\n",
       "      <td>https://ikman.lk/en/ad/infinix-hot-10-play-new...</td>\n",
       "      <td>EMAX Sri Lanka</td>\n",
       "      <td>Member</td>\n",
       "      <td>23/10/2021 20:34</td>\n",
       "    </tr>\n",
       "    <tr>\n",
       "      <th>2</th>\n",
       "      <td>Apple iPhone 7 USA &lt; USA&gt; (Used) for sale</td>\n",
       "      <td>Posted on 24 Oct 10:24 am, Angoda, Colombo</td>\n",
       "      <td>Rs 35,000</td>\n",
       "      <td>Apple</td>\n",
       "      <td>Used</td>\n",
       "      <td>USA &lt; USA&gt;</td>\n",
       "      <td>iPhone 7</td>\n",
       "      <td>NaN</td>\n",
       "      <td>Angoda,  Colombo</td>\n",
       "      <td>ððIMPORTED NOT USED IN SRI LANKAðð...</td>\n",
       "      <td>https://ikman.lk/en/ad/apple-iphone-7-usa-usa-...</td>\n",
       "      <td>Smart Hub</td>\n",
       "      <td>Premium-Member</td>\n",
       "      <td>24/10/2021 10:24</td>\n",
       "    </tr>\n",
       "    <tr>\n",
       "      <th>3</th>\n",
       "      <td>Huawei Y3 (Used) for sale</td>\n",
       "      <td>Posted on 24 Oct 10:23 am, Negombo, Gampaha</td>\n",
       "      <td>Rs 7,000</td>\n",
       "      <td>Huawei</td>\n",
       "      <td>Used</td>\n",
       "      <td>NaN</td>\n",
       "      <td>Y3</td>\n",
       "      <td>Bluetooth, Camera, Dual SIM, Expandable Memory...</td>\n",
       "      <td>Negombo,  Gampaha</td>\n",
       "      <td>glass crack price can change call for more det...</td>\n",
       "      <td>https://ikman.lk/en/ad/huawei-y3-used-for-sale...</td>\n",
       "      <td>philip roshan</td>\n",
       "      <td>Member</td>\n",
       "      <td>24/10/2021 10:23</td>\n",
       "    </tr>\n",
       "    <tr>\n",
       "      <th>4</th>\n",
       "      <td>Xiaomi Redmi 9 (Used) for sale</td>\n",
       "      <td>Posted on 24 Oct 10:22 am, Kottawa, Colombo</td>\n",
       "      <td>Rs 19,000</td>\n",
       "      <td>Xiaomi</td>\n",
       "      <td>Used</td>\n",
       "      <td>Xiaomi</td>\n",
       "      <td>Redmi 9</td>\n",
       "      <td>Bluetooth, Camera, Dual-Lens Camera, Dual SIM,...</td>\n",
       "      <td>Kottawa,  Colombo</td>\n",
       "      <td>full set 4th cam glass crack all cams working ...</td>\n",
       "      <td>https://ikman.lk/en/ad/xiaomi-redmi-9-good-use...</td>\n",
       "      <td>maxa king</td>\n",
       "      <td>Member</td>\n",
       "      <td>24/10/2021 10:22</td>\n",
       "    </tr>\n",
       "  </tbody>\n",
       "</table>\n",
       "</div>"
      ],
      "text/plain": [
       "                                       Title  \\\n",
       "0      Apple iPhone 11 128GB (Used) for sale   \n",
       "1         Infinix Hot 10 Play (New) for sale   \n",
       "2  Apple iPhone 7 USA < USA> (Used) for sale   \n",
       "3                  Huawei Y3 (Used) for sale   \n",
       "4             Xiaomi Redmi 9 (Used) for sale   \n",
       "\n",
       "                                      Sub_title       Price    Brand  \\\n",
       "0   Posted on 09 Oct 1:05 pm, Moratuwa, Colombo  Rs 137,990    Apple   \n",
       "1  Posted on 23 Oct 8:34 pm, Alutgama, Kalutara   Rs 28,500  Infinix   \n",
       "2    Posted on 24 Oct 10:24 am, Angoda, Colombo   Rs 35,000    Apple   \n",
       "3   Posted on 24 Oct 10:23 am, Negombo, Gampaha    Rs 7,000   Huawei   \n",
       "4   Posted on 24 Oct 10:22 am, Kottawa, Colombo   Rs 19,000   Xiaomi   \n",
       "\n",
       "  Condition      Edition        Model  \\\n",
       "0      Used        128GB    iPhone 11   \n",
       "1       New  Hot 10 Play  Other model   \n",
       "2      Used   USA < USA>     iPhone 7   \n",
       "3      Used          NaN           Y3   \n",
       "4      Used       Xiaomi      Redmi 9   \n",
       "\n",
       "                                            Features              Location  \\\n",
       "0                                                NaN    Moratuwa,  Colombo   \n",
       "1  Bluetooth, Camera, Dual-Lens Camera, Dual SIM,...   Alutgama,  Kalutara   \n",
       "2                                                NaN      Angoda,  Colombo   \n",
       "3  Bluetooth, Camera, Dual SIM, Expandable Memory...     Negombo,  Gampaha   \n",
       "4  Bluetooth, Camera, Dual-Lens Camera, Dual SIM,...     Kottawa,  Colombo   \n",
       "\n",
       "                                         Description  \\\n",
       "0  à¶à¶¶à¶§ à·à·à¶¯ à¶­à¶­à·à·à¶ºà· à¶\n",
       "à¶½à...   \n",
       "1  INFINIX HOT 10 PLAY4 GB RAM / 64GB  ROM   ââ...   \n",
       "2  ððIMPORTED NOT USED IN SRI LANKAðð...   \n",
       "3  glass crack price can change call for more det...   \n",
       "4  full set 4th cam glass crack all cams working ...   \n",
       "\n",
       "                                            Post_URL     Seller_name  \\\n",
       "0  https://ikman.lk/en/ad/apple-iphone-11-128gb-u...    T.Phone Zone   \n",
       "1  https://ikman.lk/en/ad/infinix-hot-10-play-new...  EMAX Sri Lanka   \n",
       "2  https://ikman.lk/en/ad/apple-iphone-7-usa-usa-...       Smart Hub   \n",
       "3  https://ikman.lk/en/ad/huawei-y3-used-for-sale...   philip roshan   \n",
       "4  https://ikman.lk/en/ad/xiaomi-redmi-9-good-use...       maxa king   \n",
       "\n",
       "      Seller_type    published_date  \n",
       "0  Premium-Member  09/10/2021 13:05  \n",
       "1          Member  23/10/2021 20:34  \n",
       "2  Premium-Member  24/10/2021 10:24  \n",
       "3          Member  24/10/2021 10:23  \n",
       "4          Member  24/10/2021 10:22  "
      ]
     },
     "execution_count": 2,
     "metadata": {},
     "output_type": "execute_result"
    }
   ],
   "source": [
    "df = pd.read_csv('Original_dataset.csv')\n",
    "df.head()"
   ]
  },
  {
   "cell_type": "code",
   "execution_count": 3,
   "id": "a5d711de",
   "metadata": {},
   "outputs": [
    {
     "data": {
      "text/html": [
       "<div>\n",
       "<style scoped>\n",
       "    .dataframe tbody tr th:only-of-type {\n",
       "        vertical-align: middle;\n",
       "    }\n",
       "\n",
       "    .dataframe tbody tr th {\n",
       "        vertical-align: top;\n",
       "    }\n",
       "\n",
       "    .dataframe thead th {\n",
       "        text-align: right;\n",
       "    }\n",
       "</style>\n",
       "<table border=\"1\" class=\"dataframe\">\n",
       "  <thead>\n",
       "    <tr style=\"text-align: right;\">\n",
       "      <th></th>\n",
       "      <th>Price</th>\n",
       "      <th>Brand</th>\n",
       "      <th>Condition</th>\n",
       "      <th>Edition</th>\n",
       "      <th>Model</th>\n",
       "      <th>published_date</th>\n",
       "    </tr>\n",
       "  </thead>\n",
       "  <tbody>\n",
       "    <tr>\n",
       "      <th>0</th>\n",
       "      <td>Rs 137,990</td>\n",
       "      <td>Apple</td>\n",
       "      <td>Used</td>\n",
       "      <td>128GB</td>\n",
       "      <td>iPhone 11</td>\n",
       "      <td>09/10/2021 13:05</td>\n",
       "    </tr>\n",
       "    <tr>\n",
       "      <th>1</th>\n",
       "      <td>Rs 28,500</td>\n",
       "      <td>Infinix</td>\n",
       "      <td>New</td>\n",
       "      <td>Hot 10 Play</td>\n",
       "      <td>Other model</td>\n",
       "      <td>23/10/2021 20:34</td>\n",
       "    </tr>\n",
       "    <tr>\n",
       "      <th>2</th>\n",
       "      <td>Rs 35,000</td>\n",
       "      <td>Apple</td>\n",
       "      <td>Used</td>\n",
       "      <td>USA &lt; USA&gt;</td>\n",
       "      <td>iPhone 7</td>\n",
       "      <td>24/10/2021 10:24</td>\n",
       "    </tr>\n",
       "    <tr>\n",
       "      <th>3</th>\n",
       "      <td>Rs 7,000</td>\n",
       "      <td>Huawei</td>\n",
       "      <td>Used</td>\n",
       "      <td>NaN</td>\n",
       "      <td>Y3</td>\n",
       "      <td>24/10/2021 10:23</td>\n",
       "    </tr>\n",
       "    <tr>\n",
       "      <th>4</th>\n",
       "      <td>Rs 19,000</td>\n",
       "      <td>Xiaomi</td>\n",
       "      <td>Used</td>\n",
       "      <td>Xiaomi</td>\n",
       "      <td>Redmi 9</td>\n",
       "      <td>24/10/2021 10:22</td>\n",
       "    </tr>\n",
       "  </tbody>\n",
       "</table>\n",
       "</div>"
      ],
      "text/plain": [
       "        Price    Brand Condition      Edition        Model    published_date\n",
       "0  Rs 137,990    Apple      Used        128GB    iPhone 11  09/10/2021 13:05\n",
       "1   Rs 28,500  Infinix       New  Hot 10 Play  Other model  23/10/2021 20:34\n",
       "2   Rs 35,000    Apple      Used   USA < USA>     iPhone 7  24/10/2021 10:24\n",
       "3    Rs 7,000   Huawei      Used          NaN           Y3  24/10/2021 10:23\n",
       "4   Rs 19,000   Xiaomi      Used       Xiaomi      Redmi 9  24/10/2021 10:22"
      ]
     },
     "execution_count": 3,
     "metadata": {},
     "output_type": "execute_result"
    }
   ],
   "source": [
    "df2 = df.drop(df.columns[[0,1,7,8,9,10,11,12]], axis=1)\n",
    "df2.head()"
   ]
  },
  {
   "cell_type": "code",
   "execution_count": 4,
   "id": "b935f9f4",
   "metadata": {},
   "outputs": [
    {
     "data": {
      "text/plain": [
       "(51223, 6)"
      ]
     },
     "execution_count": 4,
     "metadata": {},
     "output_type": "execute_result"
    }
   ],
   "source": [
    "df2.shape"
   ]
  },
  {
   "cell_type": "code",
   "execution_count": 5,
   "id": "21d4b020",
   "metadata": {},
   "outputs": [
    {
     "data": {
      "text/html": [
       "<div>\n",
       "<style scoped>\n",
       "    .dataframe tbody tr th:only-of-type {\n",
       "        vertical-align: middle;\n",
       "    }\n",
       "\n",
       "    .dataframe tbody tr th {\n",
       "        vertical-align: top;\n",
       "    }\n",
       "\n",
       "    .dataframe thead th {\n",
       "        text-align: right;\n",
       "    }\n",
       "</style>\n",
       "<table border=\"1\" class=\"dataframe\">\n",
       "  <thead>\n",
       "    <tr style=\"text-align: right;\">\n",
       "      <th></th>\n",
       "      <th>Price</th>\n",
       "      <th>Brand</th>\n",
       "      <th>Condition</th>\n",
       "      <th>Edition</th>\n",
       "      <th>Model</th>\n",
       "      <th>published_date</th>\n",
       "    </tr>\n",
       "  </thead>\n",
       "  <tbody>\n",
       "    <tr>\n",
       "      <th>0</th>\n",
       "      <td>Rs 137,990</td>\n",
       "      <td>Apple</td>\n",
       "      <td>Used</td>\n",
       "      <td>128GB</td>\n",
       "      <td>iPhone 11</td>\n",
       "      <td>09/10/2021 13:05</td>\n",
       "    </tr>\n",
       "    <tr>\n",
       "      <th>2</th>\n",
       "      <td>Rs 35,000</td>\n",
       "      <td>Apple</td>\n",
       "      <td>Used</td>\n",
       "      <td>USA &lt; USA&gt;</td>\n",
       "      <td>iPhone 7</td>\n",
       "      <td>24/10/2021 10:24</td>\n",
       "    </tr>\n",
       "    <tr>\n",
       "      <th>3</th>\n",
       "      <td>Rs 7,000</td>\n",
       "      <td>Huawei</td>\n",
       "      <td>Used</td>\n",
       "      <td>NaN</td>\n",
       "      <td>Y3</td>\n",
       "      <td>24/10/2021 10:23</td>\n",
       "    </tr>\n",
       "    <tr>\n",
       "      <th>4</th>\n",
       "      <td>Rs 19,000</td>\n",
       "      <td>Xiaomi</td>\n",
       "      <td>Used</td>\n",
       "      <td>Xiaomi</td>\n",
       "      <td>Redmi 9</td>\n",
       "      <td>24/10/2021 10:22</td>\n",
       "    </tr>\n",
       "    <tr>\n",
       "      <th>5</th>\n",
       "      <td>Rs 41,500</td>\n",
       "      <td>Xiaomi</td>\n",
       "      <td>Used</td>\n",
       "      <td>NaN</td>\n",
       "      <td>Redmi Note 9 Pro</td>\n",
       "      <td>24/10/2021 10:22</td>\n",
       "    </tr>\n",
       "  </tbody>\n",
       "</table>\n",
       "</div>"
      ],
      "text/plain": [
       "        Price   Brand Condition     Edition             Model  \\\n",
       "0  Rs 137,990   Apple      Used       128GB         iPhone 11   \n",
       "2   Rs 35,000   Apple      Used  USA < USA>          iPhone 7   \n",
       "3    Rs 7,000  Huawei      Used         NaN                Y3   \n",
       "4   Rs 19,000  Xiaomi      Used      Xiaomi           Redmi 9   \n",
       "5   Rs 41,500  Xiaomi      Used         NaN  Redmi Note 9 Pro   \n",
       "\n",
       "     published_date  \n",
       "0  09/10/2021 13:05  \n",
       "2  24/10/2021 10:24  \n",
       "3  24/10/2021 10:23  \n",
       "4  24/10/2021 10:22  \n",
       "5  24/10/2021 10:22  "
      ]
     },
     "execution_count": 5,
     "metadata": {},
     "output_type": "execute_result"
    }
   ],
   "source": [
    "df_filtered = df2[df2['Condition'] == 'Used']\n",
    "df_filtered.head()"
   ]
  },
  {
   "cell_type": "code",
   "execution_count": 6,
   "id": "afcd23a0",
   "metadata": {},
   "outputs": [
    {
     "name": "stdout",
     "output_type": "stream",
     "text": [
      "<class 'pandas.core.frame.DataFrame'>\n",
      "Int64Index: 41960 entries, 0 to 51222\n",
      "Data columns (total 6 columns):\n",
      " #   Column          Non-Null Count  Dtype \n",
      "---  ------          --------------  ----- \n",
      " 0   Price           41960 non-null  object\n",
      " 1   Brand           41960 non-null  object\n",
      " 2   Condition       41960 non-null  object\n",
      " 3   Edition         35200 non-null  object\n",
      " 4   Model           41960 non-null  object\n",
      " 5   published_date  41960 non-null  object\n",
      "dtypes: object(6)\n",
      "memory usage: 2.2+ MB\n"
     ]
    }
   ],
   "source": [
    "df_filtered.info()"
   ]
  },
  {
   "cell_type": "code",
   "execution_count": 7,
   "id": "beae75bc",
   "metadata": {},
   "outputs": [],
   "source": [
    "df_filtered['Price'] = df_filtered.Price.replace('\\D', '', regex=True).astype(int)"
   ]
  },
  {
   "cell_type": "code",
   "execution_count": 8,
   "id": "f0305503",
   "metadata": {},
   "outputs": [
    {
     "data": {
      "text/html": [
       "<div>\n",
       "<style scoped>\n",
       "    .dataframe tbody tr th:only-of-type {\n",
       "        vertical-align: middle;\n",
       "    }\n",
       "\n",
       "    .dataframe tbody tr th {\n",
       "        vertical-align: top;\n",
       "    }\n",
       "\n",
       "    .dataframe thead th {\n",
       "        text-align: right;\n",
       "    }\n",
       "</style>\n",
       "<table border=\"1\" class=\"dataframe\">\n",
       "  <thead>\n",
       "    <tr style=\"text-align: right;\">\n",
       "      <th></th>\n",
       "      <th>Price</th>\n",
       "      <th>Brand</th>\n",
       "      <th>Condition</th>\n",
       "      <th>Edition</th>\n",
       "      <th>Model</th>\n",
       "      <th>published_date</th>\n",
       "    </tr>\n",
       "  </thead>\n",
       "  <tbody>\n",
       "    <tr>\n",
       "      <th>0</th>\n",
       "      <td>137990</td>\n",
       "      <td>Apple</td>\n",
       "      <td>Used</td>\n",
       "      <td>128GB</td>\n",
       "      <td>iPhone 11</td>\n",
       "      <td>09/10/2021 13:05</td>\n",
       "    </tr>\n",
       "    <tr>\n",
       "      <th>2</th>\n",
       "      <td>35000</td>\n",
       "      <td>Apple</td>\n",
       "      <td>Used</td>\n",
       "      <td>USA &lt; USA&gt;</td>\n",
       "      <td>iPhone 7</td>\n",
       "      <td>24/10/2021 10:24</td>\n",
       "    </tr>\n",
       "    <tr>\n",
       "      <th>3</th>\n",
       "      <td>7000</td>\n",
       "      <td>Huawei</td>\n",
       "      <td>Used</td>\n",
       "      <td>NaN</td>\n",
       "      <td>Y3</td>\n",
       "      <td>24/10/2021 10:23</td>\n",
       "    </tr>\n",
       "    <tr>\n",
       "      <th>4</th>\n",
       "      <td>19000</td>\n",
       "      <td>Xiaomi</td>\n",
       "      <td>Used</td>\n",
       "      <td>Xiaomi</td>\n",
       "      <td>Redmi 9</td>\n",
       "      <td>24/10/2021 10:22</td>\n",
       "    </tr>\n",
       "    <tr>\n",
       "      <th>5</th>\n",
       "      <td>41500</td>\n",
       "      <td>Xiaomi</td>\n",
       "      <td>Used</td>\n",
       "      <td>NaN</td>\n",
       "      <td>Redmi Note 9 Pro</td>\n",
       "      <td>24/10/2021 10:22</td>\n",
       "    </tr>\n",
       "  </tbody>\n",
       "</table>\n",
       "</div>"
      ],
      "text/plain": [
       "    Price   Brand Condition     Edition             Model    published_date\n",
       "0  137990   Apple      Used       128GB         iPhone 11  09/10/2021 13:05\n",
       "2   35000   Apple      Used  USA < USA>          iPhone 7  24/10/2021 10:24\n",
       "3    7000  Huawei      Used         NaN                Y3  24/10/2021 10:23\n",
       "4   19000  Xiaomi      Used      Xiaomi           Redmi 9  24/10/2021 10:22\n",
       "5   41500  Xiaomi      Used         NaN  Redmi Note 9 Pro  24/10/2021 10:22"
      ]
     },
     "execution_count": 8,
     "metadata": {},
     "output_type": "execute_result"
    }
   ],
   "source": [
    "df_filtered.head()"
   ]
  },
  {
   "cell_type": "code",
   "execution_count": 9,
   "id": "5d176d81",
   "metadata": {},
   "outputs": [],
   "source": [
    "df_filtered['published_month'] = df_filtered['published_date'].str.slice(3,5)"
   ]
  },
  {
   "cell_type": "code",
   "execution_count": 10,
   "id": "cd2257cb",
   "metadata": {},
   "outputs": [
    {
     "data": {
      "text/html": [
       "<div>\n",
       "<style scoped>\n",
       "    .dataframe tbody tr th:only-of-type {\n",
       "        vertical-align: middle;\n",
       "    }\n",
       "\n",
       "    .dataframe tbody tr th {\n",
       "        vertical-align: top;\n",
       "    }\n",
       "\n",
       "    .dataframe thead th {\n",
       "        text-align: right;\n",
       "    }\n",
       "</style>\n",
       "<table border=\"1\" class=\"dataframe\">\n",
       "  <thead>\n",
       "    <tr style=\"text-align: right;\">\n",
       "      <th></th>\n",
       "      <th>Price</th>\n",
       "      <th>Brand</th>\n",
       "      <th>Condition</th>\n",
       "      <th>Edition</th>\n",
       "      <th>Model</th>\n",
       "      <th>published_date</th>\n",
       "      <th>published_month</th>\n",
       "    </tr>\n",
       "  </thead>\n",
       "  <tbody>\n",
       "    <tr>\n",
       "      <th>0</th>\n",
       "      <td>137990</td>\n",
       "      <td>Apple</td>\n",
       "      <td>Used</td>\n",
       "      <td>128GB</td>\n",
       "      <td>iPhone 11</td>\n",
       "      <td>09/10/2021 13:05</td>\n",
       "      <td>10</td>\n",
       "    </tr>\n",
       "    <tr>\n",
       "      <th>2</th>\n",
       "      <td>35000</td>\n",
       "      <td>Apple</td>\n",
       "      <td>Used</td>\n",
       "      <td>USA &lt; USA&gt;</td>\n",
       "      <td>iPhone 7</td>\n",
       "      <td>24/10/2021 10:24</td>\n",
       "      <td>10</td>\n",
       "    </tr>\n",
       "    <tr>\n",
       "      <th>3</th>\n",
       "      <td>7000</td>\n",
       "      <td>Huawei</td>\n",
       "      <td>Used</td>\n",
       "      <td>NaN</td>\n",
       "      <td>Y3</td>\n",
       "      <td>24/10/2021 10:23</td>\n",
       "      <td>10</td>\n",
       "    </tr>\n",
       "    <tr>\n",
       "      <th>4</th>\n",
       "      <td>19000</td>\n",
       "      <td>Xiaomi</td>\n",
       "      <td>Used</td>\n",
       "      <td>Xiaomi</td>\n",
       "      <td>Redmi 9</td>\n",
       "      <td>24/10/2021 10:22</td>\n",
       "      <td>10</td>\n",
       "    </tr>\n",
       "    <tr>\n",
       "      <th>5</th>\n",
       "      <td>41500</td>\n",
       "      <td>Xiaomi</td>\n",
       "      <td>Used</td>\n",
       "      <td>NaN</td>\n",
       "      <td>Redmi Note 9 Pro</td>\n",
       "      <td>24/10/2021 10:22</td>\n",
       "      <td>10</td>\n",
       "    </tr>\n",
       "  </tbody>\n",
       "</table>\n",
       "</div>"
      ],
      "text/plain": [
       "    Price   Brand Condition     Edition             Model    published_date  \\\n",
       "0  137990   Apple      Used       128GB         iPhone 11  09/10/2021 13:05   \n",
       "2   35000   Apple      Used  USA < USA>          iPhone 7  24/10/2021 10:24   \n",
       "3    7000  Huawei      Used         NaN                Y3  24/10/2021 10:23   \n",
       "4   19000  Xiaomi      Used      Xiaomi           Redmi 9  24/10/2021 10:22   \n",
       "5   41500  Xiaomi      Used         NaN  Redmi Note 9 Pro  24/10/2021 10:22   \n",
       "\n",
       "  published_month  \n",
       "0              10  \n",
       "2              10  \n",
       "3              10  \n",
       "4              10  \n",
       "5              10  "
      ]
     },
     "execution_count": 10,
     "metadata": {},
     "output_type": "execute_result"
    }
   ],
   "source": [
    "df_filtered.head()"
   ]
  },
  {
   "cell_type": "code",
   "execution_count": 11,
   "id": "8deb9e69",
   "metadata": {},
   "outputs": [
    {
     "name": "stdout",
     "output_type": "stream",
     "text": [
      "DataFrame is written to CSV File successfully.\n"
     ]
    }
   ],
   "source": [
    "file_name = 'filtered_dataset_forinflation.csv'\n",
    "  \n",
    "# saving the excel\n",
    "df_filtered.to_csv(file_name)\n",
    "print('DataFrame is written to CSV File successfully.')"
   ]
  },
  {
   "cell_type": "code",
   "execution_count": 12,
   "id": "9366c92f",
   "metadata": {},
   "outputs": [
    {
     "data": {
      "text/plain": [
       "array(['10', '09', '11', '12'], dtype=object)"
      ]
     },
     "execution_count": 12,
     "metadata": {},
     "output_type": "execute_result"
    }
   ],
   "source": [
    "df_filtered.published_month.unique()"
   ]
  },
  {
   "cell_type": "code",
   "execution_count": 13,
   "id": "1b55ff84",
   "metadata": {
    "scrolled": true
   },
   "outputs": [
    {
     "data": {
      "text/plain": [
       "11    23608\n",
       "12     9965\n",
       "10     8384\n",
       "09        3\n",
       "Name: published_month, dtype: int64"
      ]
     },
     "execution_count": 13,
     "metadata": {},
     "output_type": "execute_result"
    }
   ],
   "source": [
    "df_filtered.published_month.value_counts()"
   ]
  },
  {
   "cell_type": "code",
   "execution_count": 14,
   "id": "0bba2dc2",
   "metadata": {},
   "outputs": [
    {
     "data": {
      "text/html": [
       "<div>\n",
       "<style scoped>\n",
       "    .dataframe tbody tr th:only-of-type {\n",
       "        vertical-align: middle;\n",
       "    }\n",
       "\n",
       "    .dataframe tbody tr th {\n",
       "        vertical-align: top;\n",
       "    }\n",
       "\n",
       "    .dataframe thead th {\n",
       "        text-align: right;\n",
       "    }\n",
       "</style>\n",
       "<table border=\"1\" class=\"dataframe\">\n",
       "  <thead>\n",
       "    <tr style=\"text-align: right;\">\n",
       "      <th></th>\n",
       "      <th>Price</th>\n",
       "      <th>Brand</th>\n",
       "      <th>Condition</th>\n",
       "      <th>Edition</th>\n",
       "      <th>Model</th>\n",
       "      <th>published_date</th>\n",
       "      <th>published_month</th>\n",
       "    </tr>\n",
       "  </thead>\n",
       "  <tbody>\n",
       "    <tr>\n",
       "      <th>0</th>\n",
       "      <td>137990</td>\n",
       "      <td>Apple</td>\n",
       "      <td>Used</td>\n",
       "      <td>128GB</td>\n",
       "      <td>iPhone 11</td>\n",
       "      <td>09/10/2021 13:05</td>\n",
       "      <td>10</td>\n",
       "    </tr>\n",
       "    <tr>\n",
       "      <th>2</th>\n",
       "      <td>35000</td>\n",
       "      <td>Apple</td>\n",
       "      <td>Used</td>\n",
       "      <td>USA &lt; USA&gt;</td>\n",
       "      <td>iPhone 7</td>\n",
       "      <td>24/10/2021 10:24</td>\n",
       "      <td>10</td>\n",
       "    </tr>\n",
       "    <tr>\n",
       "      <th>3</th>\n",
       "      <td>7000</td>\n",
       "      <td>Huawei</td>\n",
       "      <td>Used</td>\n",
       "      <td>NaN</td>\n",
       "      <td>Y3</td>\n",
       "      <td>24/10/2021 10:23</td>\n",
       "      <td>10</td>\n",
       "    </tr>\n",
       "    <tr>\n",
       "      <th>4</th>\n",
       "      <td>19000</td>\n",
       "      <td>Xiaomi</td>\n",
       "      <td>Used</td>\n",
       "      <td>Xiaomi</td>\n",
       "      <td>Redmi 9</td>\n",
       "      <td>24/10/2021 10:22</td>\n",
       "      <td>10</td>\n",
       "    </tr>\n",
       "    <tr>\n",
       "      <th>5</th>\n",
       "      <td>41500</td>\n",
       "      <td>Xiaomi</td>\n",
       "      <td>Used</td>\n",
       "      <td>NaN</td>\n",
       "      <td>Redmi Note 9 Pro</td>\n",
       "      <td>24/10/2021 10:22</td>\n",
       "      <td>10</td>\n",
       "    </tr>\n",
       "  </tbody>\n",
       "</table>\n",
       "</div>"
      ],
      "text/plain": [
       "    Price   Brand Condition     Edition             Model    published_date  \\\n",
       "0  137990   Apple      Used       128GB         iPhone 11  09/10/2021 13:05   \n",
       "2   35000   Apple      Used  USA < USA>          iPhone 7  24/10/2021 10:24   \n",
       "3    7000  Huawei      Used         NaN                Y3  24/10/2021 10:23   \n",
       "4   19000  Xiaomi      Used      Xiaomi           Redmi 9  24/10/2021 10:22   \n",
       "5   41500  Xiaomi      Used         NaN  Redmi Note 9 Pro  24/10/2021 10:22   \n",
       "\n",
       "  published_month  \n",
       "0              10  \n",
       "2              10  \n",
       "3              10  \n",
       "4              10  \n",
       "5              10  "
      ]
     },
     "execution_count": 14,
     "metadata": {},
     "output_type": "execute_result"
    }
   ],
   "source": [
    "df_filterednew = df_filtered[df_filtered['published_month'] != '09']\n",
    "df_filterednew.head()"
   ]
  },
  {
   "cell_type": "code",
   "execution_count": 15,
   "id": "91d314ef",
   "metadata": {},
   "outputs": [
    {
     "data": {
      "text/plain": [
       "11    23608\n",
       "12     9965\n",
       "10     8384\n",
       "Name: published_month, dtype: int64"
      ]
     },
     "execution_count": 15,
     "metadata": {},
     "output_type": "execute_result"
    }
   ],
   "source": [
    "df_filterednew.published_month.value_counts()"
   ]
  },
  {
   "cell_type": "code",
   "execution_count": 16,
   "id": "a14e7e00",
   "metadata": {
    "scrolled": true
   },
   "outputs": [
    {
     "data": {
      "text/plain": [
       "Text(0.5, 1.0, 'Price Distribution')"
      ]
     },
     "execution_count": 16,
     "metadata": {},
     "output_type": "execute_result"
    },
    {
     "data": {
      "image/png": "[encoded data removed]",
      "text/plain": [
       "<Figure size 432x288 with 1 Axes>"
      ]
     },
     "metadata": {
      "needs_background": "light"
     },
     "output_type": "display_data"
    }
   ],
   "source": [
    "sns.boxplot(df_filterednew['Price'])\n",
    "plt.title('Price Distribution')"
   ]
  },
  {
   "cell_type": "code",
   "execution_count": 17,
   "id": "e40f169f",
   "metadata": {},
   "outputs": [
    {
     "data": {
      "text/html": [
       "<div>\n",
       "<style scoped>\n",
       "    .dataframe tbody tr th:only-of-type {\n",
       "        vertical-align: middle;\n",
       "    }\n",
       "\n",
       "    .dataframe tbody tr th {\n",
       "        vertical-align: top;\n",
       "    }\n",
       "\n",
       "    .dataframe thead th {\n",
       "        text-align: right;\n",
       "    }\n",
       "</style>\n",
       "<table border=\"1\" class=\"dataframe\">\n",
       "  <thead>\n",
       "    <tr style=\"text-align: right;\">\n",
       "      <th></th>\n",
       "      <th>Price</th>\n",
       "      <th>Brand</th>\n",
       "      <th>Condition</th>\n",
       "      <th>Edition</th>\n",
       "      <th>Model</th>\n",
       "      <th>published_date</th>\n",
       "      <th>published_month</th>\n",
       "    </tr>\n",
       "  </thead>\n",
       "  <tbody>\n",
       "    <tr>\n",
       "      <th>0</th>\n",
       "      <td>137990</td>\n",
       "      <td>Apple</td>\n",
       "      <td>Used</td>\n",
       "      <td>128GB</td>\n",
       "      <td>iPhone 11</td>\n",
       "      <td>09/10/2021 13:05</td>\n",
       "      <td>10</td>\n",
       "    </tr>\n",
       "    <tr>\n",
       "      <th>2</th>\n",
       "      <td>35000</td>\n",
       "      <td>Apple</td>\n",
       "      <td>Used</td>\n",
       "      <td>USA &lt; USA&gt;</td>\n",
       "      <td>iPhone 7</td>\n",
       "      <td>24/10/2021 10:24</td>\n",
       "      <td>10</td>\n",
       "    </tr>\n",
       "    <tr>\n",
       "      <th>3</th>\n",
       "      <td>7000</td>\n",
       "      <td>Huawei</td>\n",
       "      <td>Used</td>\n",
       "      <td>NaN</td>\n",
       "      <td>Y3</td>\n",
       "      <td>24/10/2021 10:23</td>\n",
       "      <td>10</td>\n",
       "    </tr>\n",
       "    <tr>\n",
       "      <th>4</th>\n",
       "      <td>19000</td>\n",
       "      <td>Xiaomi</td>\n",
       "      <td>Used</td>\n",
       "      <td>Xiaomi</td>\n",
       "      <td>Redmi 9</td>\n",
       "      <td>24/10/2021 10:22</td>\n",
       "      <td>10</td>\n",
       "    </tr>\n",
       "    <tr>\n",
       "      <th>5</th>\n",
       "      <td>41500</td>\n",
       "      <td>Xiaomi</td>\n",
       "      <td>Used</td>\n",
       "      <td>NaN</td>\n",
       "      <td>Redmi Note 9 Pro</td>\n",
       "      <td>24/10/2021 10:22</td>\n",
       "      <td>10</td>\n",
       "    </tr>\n",
       "  </tbody>\n",
       "</table>\n",
       "</div>"
      ],
      "text/plain": [
       "    Price   Brand Condition     Edition             Model    published_date  \\\n",
       "0  137990   Apple      Used       128GB         iPhone 11  09/10/2021 13:05   \n",
       "2   35000   Apple      Used  USA < USA>          iPhone 7  24/10/2021 10:24   \n",
       "3    7000  Huawei      Used         NaN                Y3  24/10/2021 10:23   \n",
       "4   19000  Xiaomi      Used      Xiaomi           Redmi 9  24/10/2021 10:22   \n",
       "5   41500  Xiaomi      Used         NaN  Redmi Note 9 Pro  24/10/2021 10:22   \n",
       "\n",
       "  published_month  \n",
       "0              10  \n",
       "2              10  \n",
       "3              10  \n",
       "4              10  \n",
       "5              10  "
      ]
     },
     "execution_count": 17,
     "metadata": {},
     "output_type": "execute_result"
    }
   ],
   "source": [
    "df_filterednew = df_filterednew[df_filterednew['Price'] < 400000]\n",
    "df_filterednew.head()"
   ]
  },
  {
   "cell_type": "code",
   "execution_count": 18,
   "id": "70909eb2",
   "metadata": {},
   "outputs": [
    {
     "data": {
      "text/plain": [
       "Text(0.5, 1.0, 'Price Distribution')"
      ]
     },
     "execution_count": 18,
     "metadata": {},
     "output_type": "execute_result"
    },
    {
     "data": {
      "image/png": "[encoded data removed]",
      "text/plain": [
       "<Figure size 432x288 with 1 Axes>"
      ]
     },
     "metadata": {
      "needs_background": "light"
     },
     "output_type": "display_data"
    }
   ],
   "source": [
    "sns.boxplot(df_filterednew['Price'])\n",
    "plt.title('Price Distribution')"
   ]
  },
  {
   "cell_type": "code",
   "execution_count": 19,
   "id": "150e95c9",
   "metadata": {},
   "outputs": [
    {
     "name": "stdout",
     "output_type": "stream",
     "text": [
      "        Price        Brand Condition            Edition              Model  \\\n",
      "0      137990        Apple      Used              128GB          iPhone 11   \n",
      "2       35000        Apple      Used         USA < USA>           iPhone 7   \n",
      "3        7000       Huawei      Used                NaN                 Y3   \n",
      "4       19000       Xiaomi      Used             Xiaomi            Redmi 9   \n",
      "5       41500       Xiaomi      Used                NaN   Redmi Note 9 Pro   \n",
      "...       ...          ...       ...                ...                ...   \n",
      "51214  190000        Apple      Used                NaN  iPhone 11 Pro Max   \n",
      "51215   59999       Huawei      Used               2020        Mate 10 Pro   \n",
      "51216   67000        Apple      Used              256GB      iPhone 7 Plus   \n",
      "51220   37999       Google      Used                  3              Pixel   \n",
      "51222   25500  Other brand      Used  Techno Spark 6 Go        Other model   \n",
      "\n",
      "         published_date published_month  \n",
      "0      09/10/2021 13:05              10  \n",
      "2      24/10/2021 10:24              10  \n",
      "3      24/10/2021 10:23              10  \n",
      "4      24/10/2021 10:22              10  \n",
      "5      24/10/2021 10:22              10  \n",
      "...                 ...             ...  \n",
      "51214  08/12/2021 23:09              12  \n",
      "51215  08/12/2021 23:07              12  \n",
      "51216  08/12/2021 22:56              12  \n",
      "51220  08/12/2021 22:44              12  \n",
      "51222  08/12/2021 22:28              12  \n",
      "\n",
      "[41960 rows x 7 columns]\n"
     ]
    },
    {
     "data": {
      "text/plain": [
       "Text(0.5, 0, 'Published Month')"
      ]
     },
     "execution_count": 19,
     "metadata": {},
     "output_type": "execute_result"
    },
    {
     "data": {
      "image/png": "[encoded data removed]",
      "text/plain": [
       "<Figure size 432x288 with 1 Axes>"
      ]
     },
     "metadata": {
      "needs_background": "light"
     },
     "output_type": "display_data"
    }
   ],
   "source": [
    "df_filterednew.groupby('published_month')['Price'].plot(kind='kde')\n",
    "print(df_filtered)\n",
    "# Add legend to plot\n",
    "plt.legend(['Oct', 'Nov', 'Dec'], title='Distribution of prices grouped by the published month')\n",
    "\n",
    "# Add x-axis label\n",
    "plt.xlabel('Published Month') "
   ]
  },
  {
   "cell_type": "code",
   "execution_count": 20,
   "id": "12e6b53e",
   "metadata": {
    "scrolled": false
   },
   "outputs": [
    {
     "data": {
      "image/png": "[encoded data removed]",
      "text/plain": [
       "<Figure size 576x288 with 1 Axes>"
      ]
     },
     "metadata": {
      "needs_background": "light"
     },
     "output_type": "display_data"
    }
   ],
   "source": [
    "# filter data for a specific month\n",
    "month = '10'\n",
    "October_df = df_filterednew[df_filterednew['published_month']==month]\n",
    "\n",
    "# plot price distribution\n",
    "plt.figure(figsize=(8,4))\n",
    "plt.hist(October_df['Price'], bins=10)\n",
    "plt.xlabel('Price')\n",
    "plt.ylabel('Count')\n",
    "plt.title(f'Price distribution for the month of October')\n",
    "plt.show()"
   ]
  },
  {
   "cell_type": "code",
   "execution_count": 21,
   "id": "5043e13e",
   "metadata": {
    "scrolled": true
   },
   "outputs": [
    {
     "data": {
      "text/plain": [
       "48305.600023857805"
      ]
     },
     "execution_count": 21,
     "metadata": {},
     "output_type": "execute_result"
    }
   ],
   "source": [
    "October_df.Price.mean()"
   ]
  },
  {
   "cell_type": "code",
   "execution_count": 22,
   "id": "e5d67ef0",
   "metadata": {
    "scrolled": true
   },
   "outputs": [
    {
     "data": {
      "text/html": [
       "<div>\n",
       "<style scoped>\n",
       "    .dataframe tbody tr th:only-of-type {\n",
       "        vertical-align: middle;\n",
       "    }\n",
       "\n",
       "    .dataframe tbody tr th {\n",
       "        vertical-align: top;\n",
       "    }\n",
       "\n",
       "    .dataframe thead th {\n",
       "        text-align: right;\n",
       "    }\n",
       "</style>\n",
       "<table border=\"1\" class=\"dataframe\">\n",
       "  <thead>\n",
       "    <tr style=\"text-align: right;\">\n",
       "      <th></th>\n",
       "      <th>Price</th>\n",
       "      <th>Brand</th>\n",
       "      <th>Condition</th>\n",
       "      <th>Edition</th>\n",
       "      <th>Model</th>\n",
       "      <th>published_date</th>\n",
       "      <th>published_month</th>\n",
       "    </tr>\n",
       "  </thead>\n",
       "  <tbody>\n",
       "    <tr>\n",
       "      <th>0</th>\n",
       "      <td>137990</td>\n",
       "      <td>Apple</td>\n",
       "      <td>Used</td>\n",
       "      <td>128GB</td>\n",
       "      <td>iPhone 11</td>\n",
       "      <td>09/10/2021 13:05</td>\n",
       "      <td>10</td>\n",
       "    </tr>\n",
       "    <tr>\n",
       "      <th>2</th>\n",
       "      <td>35000</td>\n",
       "      <td>Apple</td>\n",
       "      <td>Used</td>\n",
       "      <td>USA &lt; USA&gt;</td>\n",
       "      <td>iPhone 7</td>\n",
       "      <td>24/10/2021 10:24</td>\n",
       "      <td>10</td>\n",
       "    </tr>\n",
       "    <tr>\n",
       "      <th>7</th>\n",
       "      <td>44000</td>\n",
       "      <td>Apple</td>\n",
       "      <td>Used</td>\n",
       "      <td>Red</td>\n",
       "      <td>iPhone 7</td>\n",
       "      <td>24/10/2021 10:21</td>\n",
       "      <td>10</td>\n",
       "    </tr>\n",
       "    <tr>\n",
       "      <th>10</th>\n",
       "      <td>107000</td>\n",
       "      <td>Apple</td>\n",
       "      <td>Used</td>\n",
       "      <td>IPhone XS gold 256GB</td>\n",
       "      <td>iPhone XS</td>\n",
       "      <td>24/10/2021 10:20</td>\n",
       "      <td>10</td>\n",
       "    </tr>\n",
       "    <tr>\n",
       "      <th>15</th>\n",
       "      <td>80000</td>\n",
       "      <td>Apple</td>\n",
       "      <td>Used</td>\n",
       "      <td>64GB</td>\n",
       "      <td>iPhone X</td>\n",
       "      <td>24/10/2021 10:19</td>\n",
       "      <td>10</td>\n",
       "    </tr>\n",
       "  </tbody>\n",
       "</table>\n",
       "</div>"
      ],
      "text/plain": [
       "     Price  Brand Condition               Edition      Model  \\\n",
       "0   137990  Apple      Used                 128GB  iPhone 11   \n",
       "2    35000  Apple      Used            USA < USA>   iPhone 7   \n",
       "7    44000  Apple      Used                   Red   iPhone 7   \n",
       "10  107000  Apple      Used  IPhone XS gold 256GB  iPhone XS   \n",
       "15   80000  Apple      Used                  64GB   iPhone X   \n",
       "\n",
       "      published_date published_month  \n",
       "0   09/10/2021 13:05              10  \n",
       "2   24/10/2021 10:24              10  \n",
       "7   24/10/2021 10:21              10  \n",
       "10  24/10/2021 10:20              10  \n",
       "15  24/10/2021 10:19              10  "
      ]
     },
     "execution_count": 22,
     "metadata": {},
     "output_type": "execute_result"
    }
   ],
   "source": [
    "October_apple_df = October_df[October_df['Brand'] == 'Apple']\n",
    "October_apple_df.head()"
   ]
  },
  {
   "cell_type": "code",
   "execution_count": 23,
   "id": "c026bbb8",
   "metadata": {},
   "outputs": [
    {
     "data": {
      "text/plain": [
       "73394.67865044248"
      ]
     },
     "execution_count": 23,
     "metadata": {},
     "output_type": "execute_result"
    }
   ],
   "source": [
    "October_apple_df.Price.mean()"
   ]
  },
  {
   "cell_type": "code",
   "execution_count": 24,
   "id": "abd0ef6c",
   "metadata": {
    "scrolled": true
   },
   "outputs": [
    {
     "data": {
      "image/png": "[encoded data removed]",
      "text/plain": [
       "<Figure size 576x288 with 1 Axes>"
      ]
     },
     "metadata": {
      "needs_background": "light"
     },
     "output_type": "display_data"
    }
   ],
   "source": [
    "# filter data for a specific month\n",
    "month = '11'\n",
    "November_df = df_filterednew[df_filterednew['published_month']==month]\n",
    "\n",
    "# plot price distribution\n",
    "plt.figure(figsize=(8,4))\n",
    "plt.hist(November_df['Price'], bins=10)\n",
    "plt.xlabel('Price')\n",
    "plt.ylabel('Count')\n",
    "plt.title(f'Price distribution for the month of November')\n",
    "plt.show()"
   ]
  },
  {
   "cell_type": "code",
   "execution_count": 25,
   "id": "e0b1bc55",
   "metadata": {},
   "outputs": [
    {
     "data": {
      "text/plain": [
       "51299.12980300784"
      ]
     },
     "execution_count": 25,
     "metadata": {},
     "output_type": "execute_result"
    }
   ],
   "source": [
    "November_df.Price.mean()"
   ]
  },
  {
   "cell_type": "code",
   "execution_count": 26,
   "id": "43ed45b7",
   "metadata": {
    "scrolled": true
   },
   "outputs": [
    {
     "data": {
      "text/html": [
       "<div>\n",
       "<style scoped>\n",
       "    .dataframe tbody tr th:only-of-type {\n",
       "        vertical-align: middle;\n",
       "    }\n",
       "\n",
       "    .dataframe tbody tr th {\n",
       "        vertical-align: top;\n",
       "    }\n",
       "\n",
       "    .dataframe thead th {\n",
       "        text-align: right;\n",
       "    }\n",
       "</style>\n",
       "<table border=\"1\" class=\"dataframe\">\n",
       "  <thead>\n",
       "    <tr style=\"text-align: right;\">\n",
       "      <th></th>\n",
       "      <th>Price</th>\n",
       "      <th>Brand</th>\n",
       "      <th>Condition</th>\n",
       "      <th>Edition</th>\n",
       "      <th>Model</th>\n",
       "      <th>published_date</th>\n",
       "      <th>published_month</th>\n",
       "    </tr>\n",
       "  </thead>\n",
       "  <tbody>\n",
       "    <tr>\n",
       "      <th>10227</th>\n",
       "      <td>368000</td>\n",
       "      <td>Apple</td>\n",
       "      <td>Used</td>\n",
       "      <td>iPhone 13 Pro Max</td>\n",
       "      <td>iPhone 13 Pro Max</td>\n",
       "      <td>01/11/2021 06:42</td>\n",
       "      <td>11</td>\n",
       "    </tr>\n",
       "    <tr>\n",
       "      <th>10228</th>\n",
       "      <td>38900</td>\n",
       "      <td>Apple</td>\n",
       "      <td>Used</td>\n",
       "      <td>(Used)</td>\n",
       "      <td>iPhone 7</td>\n",
       "      <td>03/11/2021 18:02</td>\n",
       "      <td>11</td>\n",
       "    </tr>\n",
       "    <tr>\n",
       "      <th>10229</th>\n",
       "      <td>147000</td>\n",
       "      <td>Apple</td>\n",
       "      <td>Used</td>\n",
       "      <td>Red 128GB</td>\n",
       "      <td>iPhone 11</td>\n",
       "      <td>09/11/2021 00:48</td>\n",
       "      <td>11</td>\n",
       "    </tr>\n",
       "    <tr>\n",
       "      <th>10235</th>\n",
       "      <td>31000</td>\n",
       "      <td>Apple</td>\n",
       "      <td>Used</td>\n",
       "      <td>I Phone 6S / 64 GB</td>\n",
       "      <td>iPhone 6S</td>\n",
       "      <td>09/11/2021 00:45</td>\n",
       "      <td>11</td>\n",
       "    </tr>\n",
       "    <tr>\n",
       "      <th>10243</th>\n",
       "      <td>145000</td>\n",
       "      <td>Apple</td>\n",
       "      <td>Used</td>\n",
       "      <td>128GB</td>\n",
       "      <td>iPhone 11</td>\n",
       "      <td>09/11/2021 00:39</td>\n",
       "      <td>11</td>\n",
       "    </tr>\n",
       "  </tbody>\n",
       "</table>\n",
       "</div>"
      ],
      "text/plain": [
       "        Price  Brand Condition             Edition              Model  \\\n",
       "10227  368000  Apple      Used   iPhone 13 Pro Max  iPhone 13 Pro Max   \n",
       "10228   38900  Apple      Used              (Used)           iPhone 7   \n",
       "10229  147000  Apple      Used           Red 128GB          iPhone 11   \n",
       "10235   31000  Apple      Used  I Phone 6S / 64 GB          iPhone 6S   \n",
       "10243  145000  Apple      Used               128GB          iPhone 11   \n",
       "\n",
       "         published_date published_month  \n",
       "10227  01/11/2021 06:42              11  \n",
       "10228  03/11/2021 18:02              11  \n",
       "10229  09/11/2021 00:48              11  \n",
       "10235  09/11/2021 00:45              11  \n",
       "10243  09/11/2021 00:39              11  "
      ]
     },
     "execution_count": 26,
     "metadata": {},
     "output_type": "execute_result"
    }
   ],
   "source": [
    "November_apple_df = November_df[November_df['Brand'] == 'Apple']\n",
    "November_apple_df.head()"
   ]
  },
  {
   "cell_type": "code",
   "execution_count": 27,
   "id": "94ed2ef4",
   "metadata": {},
   "outputs": [
    {
     "data": {
      "text/plain": [
       "76480.44189355848"
      ]
     },
     "execution_count": 27,
     "metadata": {},
     "output_type": "execute_result"
    }
   ],
   "source": [
    "November_apple_df.Price.mean()"
   ]
  },
  {
   "cell_type": "code",
   "execution_count": 28,
   "id": "bbb20dd1",
   "metadata": {
    "scrolled": true
   },
   "outputs": [
    {
     "data": {
      "image/png": "[encoded data removed]",
      "text/plain": [
       "<Figure size 576x288 with 1 Axes>"
      ]
     },
     "metadata": {
      "needs_background": "light"
     },
     "output_type": "display_data"
    }
   ],
   "source": [
    "# filter data for a specific month\n",
    "month = '12'\n",
    "December_df = df_filterednew[df_filterednew['published_month']==month]\n",
    "\n",
    "# plot price distribution\n",
    "plt.figure(figsize=(8,4))\n",
    "plt.hist(December_df['Price'], bins=10)\n",
    "plt.xlabel('Price')\n",
    "plt.ylabel('Count')\n",
    "plt.title(f'Price distribution for the month of December')\n",
    "plt.show()"
   ]
  },
  {
   "cell_type": "code",
   "execution_count": 29,
   "id": "aa2fae12",
   "metadata": {},
   "outputs": [
    {
     "data": {
      "text/plain": [
       "51008.68818391728"
      ]
     },
     "execution_count": 29,
     "metadata": {},
     "output_type": "execute_result"
    }
   ],
   "source": [
    "December_df.Price.mean()"
   ]
  },
  {
   "cell_type": "code",
   "execution_count": 30,
   "id": "20d88866",
   "metadata": {},
   "outputs": [
    {
     "data": {
      "text/html": [
       "<div>\n",
       "<style scoped>\n",
       "    .dataframe tbody tr th:only-of-type {\n",
       "        vertical-align: middle;\n",
       "    }\n",
       "\n",
       "    .dataframe tbody tr th {\n",
       "        vertical-align: top;\n",
       "    }\n",
       "\n",
       "    .dataframe thead th {\n",
       "        text-align: right;\n",
       "    }\n",
       "</style>\n",
       "<table border=\"1\" class=\"dataframe\">\n",
       "  <thead>\n",
       "    <tr style=\"text-align: right;\">\n",
       "      <th></th>\n",
       "      <th>Price</th>\n",
       "      <th>Brand</th>\n",
       "      <th>Condition</th>\n",
       "      <th>Edition</th>\n",
       "      <th>Model</th>\n",
       "      <th>published_date</th>\n",
       "      <th>published_month</th>\n",
       "    </tr>\n",
       "  </thead>\n",
       "  <tbody>\n",
       "    <tr>\n",
       "      <th>34735</th>\n",
       "      <td>177000</td>\n",
       "      <td>Apple</td>\n",
       "      <td>Used</td>\n",
       "      <td>(Used)</td>\n",
       "      <td>iPhone 11 Pro</td>\n",
       "      <td>02/12/2021 01:36</td>\n",
       "      <td>12</td>\n",
       "    </tr>\n",
       "    <tr>\n",
       "      <th>34736</th>\n",
       "      <td>36999</td>\n",
       "      <td>Apple</td>\n",
       "      <td>Used</td>\n",
       "      <td>iPhone 7</td>\n",
       "      <td>iPhone 7</td>\n",
       "      <td>02/12/2021 01:36</td>\n",
       "      <td>12</td>\n",
       "    </tr>\n",
       "    <tr>\n",
       "      <th>34737</th>\n",
       "      <td>36999</td>\n",
       "      <td>Apple</td>\n",
       "      <td>Used</td>\n",
       "      <td>128GB</td>\n",
       "      <td>iPhone 7</td>\n",
       "      <td>02/12/2021 01:36</td>\n",
       "      <td>12</td>\n",
       "    </tr>\n",
       "    <tr>\n",
       "      <th>34738</th>\n",
       "      <td>36999</td>\n",
       "      <td>Apple</td>\n",
       "      <td>Used</td>\n",
       "      <td>128GB</td>\n",
       "      <td>iPhone 7</td>\n",
       "      <td>02/12/2021 01:35</td>\n",
       "      <td>12</td>\n",
       "    </tr>\n",
       "    <tr>\n",
       "      <th>34741</th>\n",
       "      <td>98000</td>\n",
       "      <td>Apple</td>\n",
       "      <td>Used</td>\n",
       "      <td>64 GB GOLD</td>\n",
       "      <td>iPhone XS</td>\n",
       "      <td>02/12/2021 01:34</td>\n",
       "      <td>12</td>\n",
       "    </tr>\n",
       "  </tbody>\n",
       "</table>\n",
       "</div>"
      ],
      "text/plain": [
       "        Price  Brand Condition     Edition          Model    published_date  \\\n",
       "34735  177000  Apple      Used      (Used)  iPhone 11 Pro  02/12/2021 01:36   \n",
       "34736   36999  Apple      Used    iPhone 7       iPhone 7  02/12/2021 01:36   \n",
       "34737   36999  Apple      Used       128GB       iPhone 7  02/12/2021 01:36   \n",
       "34738   36999  Apple      Used       128GB       iPhone 7  02/12/2021 01:35   \n",
       "34741   98000  Apple      Used  64 GB GOLD      iPhone XS  02/12/2021 01:34   \n",
       "\n",
       "      published_month  \n",
       "34735              12  \n",
       "34736              12  \n",
       "34737              12  \n",
       "34738              12  \n",
       "34741              12  "
      ]
     },
     "execution_count": 30,
     "metadata": {},
     "output_type": "execute_result"
    }
   ],
   "source": [
    "December_apple_df = December_df[December_df['Brand'] == 'Apple']\n",
    "December_apple_df.head()"
   ]
  },
  {
   "cell_type": "code",
   "execution_count": 31,
   "id": "4a3ef9ba",
   "metadata": {},
   "outputs": [
    {
     "data": {
      "text/plain": [
       "74696.64411190631"
      ]
     },
     "execution_count": 31,
     "metadata": {},
     "output_type": "execute_result"
    }
   ],
   "source": [
    "December_apple_df.Price.mean()"
   ]
  },
  {
   "cell_type": "code",
   "execution_count": 47,
   "id": "9a870024",
   "metadata": {},
   "outputs": [
    {
     "data": {
      "image/png": "[encoded data removed]",
      "text/plain": [
       "<Figure size 432x576 with 1 Axes>"
      ]
     },
     "metadata": {
      "needs_background": "light"
     },
     "output_type": "display_data"
    }
   ],
   "source": [
    "# creating a sample dataset using the three values of mean prices for all mobile phones\n",
    "data = {'month': ['Oct', 'Nov', 'Dec'], \n",
    "        'mean_price': [48305.600023857805, 51299.12980300784, 51008.68818391728],\n",
    "       'ccpi':[7.6, 9.9, 12.1]}\n",
    "df = pd.DataFrame(data)\n",
    "# plot mean price distribution\n",
    "plt.figure(figsize=(6,8))\n",
    "plt.bar(data['month'],data['mean_price'])\n",
    "plt.bar(data['month'],data['ccpi'])\n",
    "plt.xlabel('Price')\n",
    "plt.ylabel('Count')\n",
    "plt.title(f'Mean price for all mobile phones in a given month')\n",
    "plt.show()"
   ]
  },
  {
   "cell_type": "code",
   "execution_count": 79,
   "id": "17a493fd",
   "metadata": {},
   "outputs": [
    {
     "data": {
      "image/png": "[encoded data removed]",
      "text/plain": [
       "<Figure size 432x288 with 1 Axes>"
      ]
     },
     "metadata": {
      "needs_background": "light"
     },
     "output_type": "display_data"
    }
   ],
   "source": [
    "months = (\"October\", \"November\", \"December\")\n",
    "calculated_means = {\n",
    "    'All_models_mean': (48305.600023857805, 51299.12980300784, 51008.68818391728),\n",
    "    'Singlebrand_mean (Apple)': (73394.67865044248, 76480.44189355848, 74696.64411190631),\n",
    "}\n",
    "\n",
    "x = np.arange(len(months))  # the label locations\n",
    "width = 0.45  # the width of the bars\n",
    "multiplier = 0\n",
    "\n",
    "fig, ax = plt.subplots(layout='constrained')\n",
    "\n",
    "for attribute, measurement in calculated_means.items():\n",
    "    offset = width * multiplier\n",
    "    rects = ax.bar(x + offset, measurement, width, label=attribute)\n",
    "    ax.bar_label(rects, padding=3)\n",
    "    multiplier += 1\n",
    "\n",
    "# Add some text for labels, title and custom x-axis tick labels, etc.\n",
    "ax.set_ylabel('Values')\n",
    "ax.set_title('Change of mean prices')\n",
    "ax.set_xticks(x + width, months)\n",
    "ax.legend(loc='upper left')\n",
    "ax.set_ylim(0, 120000)\n",
    "plt.show()"
   ]
  },
  {
   "cell_type": "code",
   "execution_count": null,
   "id": "0b9a68e0",
   "metadata": {},
   "outputs": [],
   "source": []
  }
 ],
 "metadata": {
  "kernelspec": {
   "display_name": "Python 3 (ipykernel)",
   "language": "python",
   "name": "python3"
  },
  "language_info": {
   "codemirror_mode": {
    "name": "ipython",
    "version": 3
   },
   "file_extension": ".py",
   "mimetype": "text/x-python",
   "name": "python",
   "nbconvert_exporter": "python",
   "pygments_lexer": "ipython3",
   "version": "3.9.12"
  }
 },
 "nbformat": 4,
 "nbformat_minor": 5
}
